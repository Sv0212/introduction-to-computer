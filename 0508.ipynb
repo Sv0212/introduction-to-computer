{
  "nbformat": 4,
  "nbformat_minor": 0,
  "metadata": {
    "colab": {
      "provenance": [],
      "authorship_tag": "ABX9TyPDvth+5ZCkeoT0lh5iRTQG",
      "include_colab_link": true
    },
    "kernelspec": {
      "name": "python3",
      "display_name": "Python 3"
    },
    "language_info": {
      "name": "python"
    }
  },
  "cells": [
    {
      "cell_type": "markdown",
      "metadata": {
        "id": "view-in-github",
        "colab_type": "text"
      },
      "source": [
        "<a href=\"https://colab.research.google.com/github/Sv0212/introduction-to-computers/blob/main/0508.ipynb\" target=\"_parent\"><img src=\"https://colab.research.google.com/assets/colab-badge.svg\" alt=\"Open In Colab\"/></a>"
      ]
    },
    {
      "cell_type": "code",
      "execution_count": 23,
      "metadata": {
        "colab": {
          "base_uri": "https://localhost:8080/"
        },
        "id": "460XFYGqjMKS",
        "outputId": "6334bb08-3ab2-4f2f-ffbd-c2da080e35da"
      },
      "outputs": [
        {
          "output_type": "stream",
          "name": "stdout",
          "text": [
            "請輸入體溫36\n",
            "體溫正常！\n"
          ]
        }
      ],
      "source": [
        "a=float(input(\"請輸入體溫\"))\n",
        "if a>=37.5:\n",
        "  print(\"體溫過高！\")\n",
        "elif 37<a<37.4:\n",
        "  print(\"體溫略高！\")\n",
        "elif 34<a<36.9:\n",
        "  print(\"體溫正常！\")\n",
        "else:\n",
        "  print(\"體溫異常，請重新測量！\")"
      ]
    },
    {
      "cell_type": "code",
      "source": [
        "a=int(input(\"請輸入成績\"))\n",
        "if a>=90:\n",
        "  print(\"A\")\n",
        "elif 80<=a<=89:\n",
        "  print(\"B\")\n",
        "elif 70<=a<=79:\n",
        "  print(\"C\")\n",
        "elif 60<=a<=69:\n",
        "  print(\"D\")\n",
        "else:\n",
        "  print(\"E\")"
      ],
      "metadata": {
        "colab": {
          "base_uri": "https://localhost:8080/"
        },
        "id": "lUZNzA8anaPU",
        "outputId": "dd189293-1261-4658-f63c-ad64613145c3"
      },
      "execution_count": 24,
      "outputs": [
        {
          "output_type": "stream",
          "name": "stdout",
          "text": [
            "請輸入成績79\n",
            "C\n"
          ]
        }
      ]
    },
    {
      "cell_type": "code",
      "source": [
        "a=int(input(\"請輸入月份\"))\n",
        "if a==3 or a==4 or a==5:\n",
        "  print(a,\"月是春天\")\n",
        "elif a==6 or a==7 or a==8:\n",
        "  print(a,\"月是夏天\")\n",
        "elif a==9 or a==10 or a==11:\n",
        "  print(a,\"月是秋天\")\n",
        "elif a==12 or a==1 or a==2:\n",
        "  print(a,\"月是冬天\")\n",
        "else:\n",
        "  print(\"月份不在範圍內！\")"
      ],
      "metadata": {
        "colab": {
          "base_uri": "https://localhost:8080/"
        },
        "id": "D0DzxU9YnacS",
        "outputId": "c058530c-8b53-44e7-bebc-83140675304b"
      },
      "execution_count": 25,
      "outputs": [
        {
          "output_type": "stream",
          "name": "stdout",
          "text": [
            "請輸入月份8\n",
            "8 月是夏天\n"
          ]
        }
      ]
    }
  ]
}