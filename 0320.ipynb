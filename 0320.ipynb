{
  "nbformat": 4,
  "nbformat_minor": 0,
  "metadata": {
    "colab": {
      "provenance": [],
      "authorship_tag": "ABX9TyOFM9Vo8B+E2g+jIRrTFjpq",
      "include_colab_link": true
    },
    "kernelspec": {
      "name": "python3",
      "display_name": "Python 3"
    },
    "language_info": {
      "name": "python"
    }
  },
  "cells": [
    {
      "cell_type": "markdown",
      "metadata": {
        "id": "view-in-github",
        "colab_type": "text"
      },
      "source": [
        "<a href=\"https://colab.research.google.com/github/Sv0212/introduction-to-computers/blob/main/0320.ipynb\" target=\"_parent\"><img src=\"https://colab.research.google.com/assets/colab-badge.svg\" alt=\"Open In Colab\"/></a>"
      ]
    },
    {
      "cell_type": "code",
      "execution_count": 1,
      "metadata": {
        "id": "zvuswxIYOsF0"
      },
      "outputs": [],
      "source": [
        "a=1"
      ]
    },
    {
      "cell_type": "code",
      "source": [
        "a"
      ],
      "metadata": {
        "colab": {
          "base_uri": "https://localhost:8080/"
        },
        "id": "vejrmuKhOtWU",
        "outputId": "fd4ae3ad-fbf2-46d1-9aa0-02aaf264e28f"
      },
      "execution_count": 2,
      "outputs": [
        {
          "output_type": "execute_result",
          "data": {
            "text/plain": [
              "1"
            ]
          },
          "metadata": {},
          "execution_count": 2
        }
      ]
    },
    {
      "cell_type": "code",
      "source": [
        "b=input(\"請輸入一個數字\")"
      ],
      "metadata": {
        "colab": {
          "base_uri": "https://localhost:8080/"
        },
        "id": "CncvID1BOxF5",
        "outputId": "e586f3d6-62cf-4466-9b0f-8e0a24b357b5"
      },
      "execution_count": 3,
      "outputs": [
        {
          "name": "stdout",
          "output_type": "stream",
          "text": [
            "請輸入一個數字5\n"
          ]
        }
      ]
    },
    {
      "cell_type": "code",
      "source": [
        "b"
      ],
      "metadata": {
        "colab": {
          "base_uri": "https://localhost:8080/",
          "height": 36
        },
        "id": "tNfrzcRGO16z",
        "outputId": "2f86eed1-9d02-46bb-ad06-8c4f3322da87"
      },
      "execution_count": 4,
      "outputs": [
        {
          "output_type": "execute_result",
          "data": {
            "text/plain": [
              "'5'"
            ],
            "application/vnd.google.colaboratory.intrinsic+json": {
              "type": "string"
            }
          },
          "metadata": {},
          "execution_count": 4
        }
      ]
    },
    {
      "cell_type": "code",
      "source": [
        "b+5"
      ],
      "metadata": {
        "colab": {
          "base_uri": "https://localhost:8080/",
          "height": 141
        },
        "id": "uwAdtSPAO3rk",
        "outputId": "66b2d49a-1cc4-4549-c646-63b41c66c33d"
      },
      "execution_count": 5,
      "outputs": [
        {
          "output_type": "error",
          "ename": "TypeError",
          "evalue": "can only concatenate str (not \"int\") to str",
          "traceback": [
            "\u001b[0;31m---------------------------------------------------------------------------\u001b[0m",
            "\u001b[0;31mTypeError\u001b[0m                                 Traceback (most recent call last)",
            "\u001b[0;32m<ipython-input-5-2ef40728e71d>\u001b[0m in \u001b[0;36m<cell line: 1>\u001b[0;34m()\u001b[0m\n\u001b[0;32m----> 1\u001b[0;31m \u001b[0mb\u001b[0m\u001b[0;34m+\u001b[0m\u001b[0;36m5\u001b[0m\u001b[0;34m\u001b[0m\u001b[0;34m\u001b[0m\u001b[0m\n\u001b[0m",
            "\u001b[0;31mTypeError\u001b[0m: can only concatenate str (not \"int\") to str"
          ]
        }
      ]
    },
    {
      "cell_type": "code",
      "source": [
        "test1=input(\"輸入\")"
      ],
      "metadata": {
        "colab": {
          "base_uri": "https://localhost:8080/"
        },
        "id": "zUyH2jdRO40O",
        "outputId": "6803d7cf-369e-4275-9ddb-c3d4c730d61a"
      },
      "execution_count": 6,
      "outputs": [
        {
          "name": "stdout",
          "output_type": "stream",
          "text": [
            "輸入2\n"
          ]
        }
      ]
    },
    {
      "cell_type": "code",
      "source": [
        "test1+2"
      ],
      "metadata": {
        "colab": {
          "base_uri": "https://localhost:8080/",
          "height": 141
        },
        "id": "330w4vH6PBx2",
        "outputId": "99434565-0958-4daa-e916-efe77a99395f"
      },
      "execution_count": 7,
      "outputs": [
        {
          "output_type": "error",
          "ename": "TypeError",
          "evalue": "can only concatenate str (not \"int\") to str",
          "traceback": [
            "\u001b[0;31m---------------------------------------------------------------------------\u001b[0m",
            "\u001b[0;31mTypeError\u001b[0m                                 Traceback (most recent call last)",
            "\u001b[0;32m<ipython-input-7-85e5954518a6>\u001b[0m in \u001b[0;36m<cell line: 1>\u001b[0;34m()\u001b[0m\n\u001b[0;32m----> 1\u001b[0;31m \u001b[0mtest1\u001b[0m\u001b[0;34m+\u001b[0m\u001b[0;36m2\u001b[0m\u001b[0;34m\u001b[0m\u001b[0;34m\u001b[0m\u001b[0m\n\u001b[0m",
            "\u001b[0;31mTypeError\u001b[0m: can only concatenate str (not \"int\") to str"
          ]
        }
      ]
    },
    {
      "cell_type": "code",
      "source": [
        "print(type(test1))"
      ],
      "metadata": {
        "colab": {
          "base_uri": "https://localhost:8080/"
        },
        "id": "PLkjadzwPFbU",
        "outputId": "06eec6dd-31ef-479c-ffd1-2b80613867d2"
      },
      "execution_count": 8,
      "outputs": [
        {
          "output_type": "stream",
          "name": "stdout",
          "text": [
            "<class 'str'>\n"
          ]
        }
      ]
    },
    {
      "cell_type": "code",
      "source": [
        "test=int(input(\"請輸入一個數字\"))"
      ],
      "metadata": {
        "colab": {
          "base_uri": "https://localhost:8080/"
        },
        "id": "WlF85UKhPaxL",
        "outputId": "a723cf40-2961-4ecf-e31f-7c28bada8052"
      },
      "execution_count": 51,
      "outputs": [
        {
          "name": "stdout",
          "output_type": "stream",
          "text": [
            "請輸入一個數字123\n"
          ]
        }
      ]
    },
    {
      "cell_type": "code",
      "source": [
        "test"
      ],
      "metadata": {
        "colab": {
          "base_uri": "https://localhost:8080/"
        },
        "id": "u1EntutGcMq8",
        "outputId": "f6585029-0e4b-4e2e-eaff-a50ba094366f"
      },
      "execution_count": 52,
      "outputs": [
        {
          "output_type": "execute_result",
          "data": {
            "text/plain": [
              "123"
            ]
          },
          "metadata": {},
          "execution_count": 52
        }
      ]
    },
    {
      "cell_type": "code",
      "source": [
        "print(type(test))"
      ],
      "metadata": {
        "colab": {
          "base_uri": "https://localhost:8080/"
        },
        "id": "ntLhTBN8cQ0z",
        "outputId": "49dd4cf5-bae2-48a5-9683-3b3437e7ef60"
      },
      "execution_count": 53,
      "outputs": [
        {
          "output_type": "stream",
          "name": "stdout",
          "text": [
            "<class 'int'>\n"
          ]
        }
      ]
    },
    {
      "cell_type": "code",
      "source": [
        "test2=int(input(\"請輸入一個數字\"))"
      ],
      "metadata": {
        "colab": {
          "base_uri": "https://localhost:8080/"
        },
        "id": "DS5TrhHacWaj",
        "outputId": "c1737a94-a0c8-4525-d5a2-75a6127a8c03"
      },
      "execution_count": 54,
      "outputs": [
        {
          "name": "stdout",
          "output_type": "stream",
          "text": [
            "請輸入一個數字111\n"
          ]
        }
      ]
    },
    {
      "cell_type": "code",
      "source": [
        "test+1"
      ],
      "metadata": {
        "colab": {
          "base_uri": "https://localhost:8080/"
        },
        "id": "D_DRALsZPq37",
        "outputId": "56132583-1d85-4f86-c46a-608bf7a8f16d"
      },
      "execution_count": 55,
      "outputs": [
        {
          "output_type": "execute_result",
          "data": {
            "text/plain": [
              "124"
            ]
          },
          "metadata": {},
          "execution_count": 55
        }
      ]
    },
    {
      "cell_type": "code",
      "source": [
        "test2+1"
      ],
      "metadata": {
        "colab": {
          "base_uri": "https://localhost:8080/"
        },
        "id": "S4KjjvTRP9mF",
        "outputId": "0388d184-1c96-4fa7-f3ba-156d050490fc"
      },
      "execution_count": 56,
      "outputs": [
        {
          "output_type": "execute_result",
          "data": {
            "text/plain": [
              "112"
            ]
          },
          "metadata": {},
          "execution_count": 56
        }
      ]
    },
    {
      "cell_type": "code",
      "source": [
        "12+3"
      ],
      "metadata": {
        "colab": {
          "base_uri": "https://localhost:8080/"
        },
        "id": "U2LMQaGZQHHZ",
        "outputId": "0f14c767-9af3-4ccb-9801-ea67c5686313"
      },
      "execution_count": 21,
      "outputs": [
        {
          "output_type": "execute_result",
          "data": {
            "text/plain": [
              "15"
            ]
          },
          "metadata": {},
          "execution_count": 21
        }
      ]
    },
    {
      "cell_type": "code",
      "source": [
        "12-3"
      ],
      "metadata": {
        "colab": {
          "base_uri": "https://localhost:8080/"
        },
        "id": "5Lle-8dXQ9Vz",
        "outputId": "24684379-ae49-4823-face-e939a97dfb94"
      },
      "execution_count": 22,
      "outputs": [
        {
          "output_type": "execute_result",
          "data": {
            "text/plain": [
              "9"
            ]
          },
          "metadata": {},
          "execution_count": 22
        }
      ]
    },
    {
      "cell_type": "code",
      "source": [
        "12*3"
      ],
      "metadata": {
        "colab": {
          "base_uri": "https://localhost:8080/"
        },
        "id": "TbKj2nZrQ-e0",
        "outputId": "5f050f8a-06b4-42a6-f50c-06b955d2ed6f"
      },
      "execution_count": 23,
      "outputs": [
        {
          "output_type": "execute_result",
          "data": {
            "text/plain": [
              "36"
            ]
          },
          "metadata": {},
          "execution_count": 23
        }
      ]
    },
    {
      "cell_type": "code",
      "source": [
        "32/5"
      ],
      "metadata": {
        "colab": {
          "base_uri": "https://localhost:8080/"
        },
        "id": "loIqFKcuQ_-q",
        "outputId": "3e26ab0b-7f9d-4ea5-9494-c50102f07bbe"
      },
      "execution_count": 24,
      "outputs": [
        {
          "output_type": "execute_result",
          "data": {
            "text/plain": [
              "6.4"
            ]
          },
          "metadata": {},
          "execution_count": 24
        }
      ]
    },
    {
      "cell_type": "code",
      "source": [
        "32%5"
      ],
      "metadata": {
        "colab": {
          "base_uri": "https://localhost:8080/"
        },
        "id": "Rwb4PkJKRA6d",
        "outputId": "c881bf02-5d19-4920-a475-de731474f576"
      },
      "execution_count": 25,
      "outputs": [
        {
          "output_type": "execute_result",
          "data": {
            "text/plain": [
              "2"
            ]
          },
          "metadata": {},
          "execution_count": 25
        }
      ]
    },
    {
      "cell_type": "code",
      "source": [
        "32//5"
      ],
      "metadata": {
        "colab": {
          "base_uri": "https://localhost:8080/"
        },
        "id": "WtJ04kOcRCXt",
        "outputId": "dcd6b9e6-9188-4f44-f575-1806375d2c5d"
      },
      "execution_count": 26,
      "outputs": [
        {
          "output_type": "execute_result",
          "data": {
            "text/plain": [
              "6"
            ]
          },
          "metadata": {},
          "execution_count": 26
        }
      ]
    },
    {
      "cell_type": "code",
      "source": [
        "7**2"
      ],
      "metadata": {
        "colab": {
          "base_uri": "https://localhost:8080/"
        },
        "id": "ng18NgG7RDaF",
        "outputId": "5f809760-e504-40fb-c13a-ea59a4a4883d"
      },
      "execution_count": 27,
      "outputs": [
        {
          "output_type": "execute_result",
          "data": {
            "text/plain": [
              "49"
            ]
          },
          "metadata": {},
          "execution_count": 27
        }
      ]
    },
    {
      "cell_type": "code",
      "source": [
        "chi=int(input(\"請輸入國文成績\"))\n",
        "eng=int(input(\"請輸入英文成績\"))\n",
        "math=int(input(\"請輸入數學成績\"))\n",
        "total=chi+eng+math\n",
        "print(\"您的成績總分為:\" ,total ,sep='\\n')"
      ],
      "metadata": {
        "colab": {
          "base_uri": "https://localhost:8080/"
        },
        "id": "2s5b4zy0REHJ",
        "outputId": "d82b5d41-83b1-43c8-e041-65107c9d13df"
      },
      "execution_count": 39,
      "outputs": [
        {
          "output_type": "stream",
          "name": "stdout",
          "text": [
            "請輸入國文成績50\n",
            "請輸入英文成績60\n",
            "請輸入數學成績70\n",
            "您的成績總分為:\n",
            "180\n"
          ]
        }
      ]
    },
    {
      "cell_type": "code",
      "source": [
        "上底=int(input(\"請輸入梯形上底長度：\"))\n",
        "下底=int(input(\"請輸入梯形下底長度：\"))\n",
        "高=int(input(\"請輸入梯形的高度：\"))\n",
        "面積=(上底+下底)*高/2\n",
        "print(\"上底長度為：\",上底, \"下底長度為：\",下底, \"高度為：\",高, \"梯形面積為：\",面積)"
      ],
      "metadata": {
        "colab": {
          "base_uri": "https://localhost:8080/"
        },
        "id": "Ev7AAKQvT17U",
        "outputId": "1ad4f430-5f5f-422e-a006-c1be99cce2a5"
      },
      "execution_count": 45,
      "outputs": [
        {
          "output_type": "stream",
          "name": "stdout",
          "text": [
            "請輸入梯形上底長度：3\n",
            "請輸入梯形下底長度：4\n",
            "請輸入梯形的高度：3\n",
            "上底長度為： 3 下底長度為： 4 高度為： 3 梯形面積為： 10.5\n"
          ]
        }
      ]
    },
    {
      "cell_type": "code",
      "source": [
        "height_cm=int(input(\"請輸入您的身高(cm)：\"))\n",
        "weight=int(input(\"請輸入您的體重(kg)：\"))\n",
        "height_m=height_cm/100\n",
        "bmi=weight/(height_m**2)\n",
        "rounded=round(bmi, 2)\n",
        "print(\"身高\",height_cm,\"公分,\", \"體重\",weight,\"公斤,\", \"BMI值為\",rounded)"
      ],
      "metadata": {
        "colab": {
          "base_uri": "https://localhost:8080/"
        },
        "id": "3k5uHGfEXamM",
        "outputId": "916521c6-6d1a-4af4-d83e-65680129e0d9"
      },
      "execution_count": 57,
      "outputs": [
        {
          "output_type": "stream",
          "name": "stdout",
          "text": [
            "請輸入您的身高(cm)：180\n",
            "請輸入您的體重(kg)：80\n",
            "身高 180 公分, 體重 80 公斤, BMI值為 24.69\n"
          ]
        }
      ]
    }
  ]
}